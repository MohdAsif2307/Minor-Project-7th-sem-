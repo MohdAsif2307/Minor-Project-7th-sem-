{
  "cells": [
    {
      "cell_type": "markdown",
      "metadata": {
        "id": "view-in-github",
        "colab_type": "text"
      },
      "source": [
        "<a href=\"https://colab.research.google.com/github/MohdAsif2307/Minor-Project-7th-sem-/blob/main/minor_project_2_backtesting_engine.ipynb\" target=\"_parent\"><img src=\"https://colab.research.google.com/assets/colab-badge.svg\" alt=\"Open In Colab\"/></a>"
      ]
    },
    {
      "cell_type": "code",
      "execution_count": null,
      "metadata": {
        "id": "t8_f_211szk1"
      },
      "outputs": [],
      "source": [
        "pip install streamlit --quiet"
      ]
    },
    {
      "cell_type": "code",
      "execution_count": null,
      "metadata": {
        "colab": {
          "base_uri": "https://localhost:8080/"
        },
        "id": "gnnAAuiDtNO3",
        "outputId": "84fa2039-75cb-43b4-86a9-10953c2b32ac"
      },
      "outputs": [
        {
          "output_type": "stream",
          "name": "stdout",
          "text": [
            "Collecting pyngrok\n",
            "  Downloading pyngrok-7.2.1-py3-none-any.whl.metadata (8.3 kB)\n",
            "Requirement already satisfied: PyYAML>=5.1 in /usr/local/lib/python3.10/dist-packages (from pyngrok) (6.0.2)\n",
            "Downloading pyngrok-7.2.1-py3-none-any.whl (22 kB)\n",
            "Installing collected packages: pyngrok\n",
            "Successfully installed pyngrok-7.2.1\n"
          ]
        }
      ],
      "source": [
        "pip install pyngrok"
      ]
    },
    {
      "cell_type": "code",
      "execution_count": null,
      "metadata": {
        "colab": {
          "base_uri": "https://localhost:8080/"
        },
        "id": "tUicTofBvqtg",
        "outputId": "6e5a1ed6-2fe6-44ad-f085-b2d5e92573b6"
      },
      "outputs": [
        {
          "output_type": "stream",
          "name": "stdout",
          "text": [
            "Requirement already satisfied: vectorbt in /usr/local/lib/python3.10/dist-packages (0.26.2)\n",
            "Requirement already satisfied: numpy<2.0.0,>=1.16.5 in /usr/local/lib/python3.10/dist-packages (from vectorbt) (1.23.5)\n",
            "Requirement already satisfied: pandas in /usr/local/lib/python3.10/dist-packages (from vectorbt) (2.2.2)\n",
            "Requirement already satisfied: scipy in /usr/local/lib/python3.10/dist-packages (from vectorbt) (1.13.1)\n",
            "Requirement already satisfied: matplotlib in /usr/local/lib/python3.10/dist-packages (from vectorbt) (3.8.0)\n",
            "Requirement already satisfied: plotly>=4.12.0 in /usr/local/lib/python3.10/dist-packages (from vectorbt) (5.24.1)\n",
            "Requirement already satisfied: ipywidgets>=7.0.0 in /usr/local/lib/python3.10/dist-packages (from vectorbt) (7.7.1)\n",
            "Requirement already satisfied: dill in /usr/local/lib/python3.10/dist-packages (from vectorbt) (0.3.9)\n",
            "Requirement already satisfied: tqdm in /usr/local/lib/python3.10/dist-packages (from vectorbt) (4.66.6)\n",
            "Requirement already satisfied: dateparser in /usr/local/lib/python3.10/dist-packages (from vectorbt) (1.2.0)\n",
            "Requirement already satisfied: imageio in /usr/local/lib/python3.10/dist-packages (from vectorbt) (2.36.1)\n",
            "Requirement already satisfied: scikit-learn in /usr/local/lib/python3.10/dist-packages (from vectorbt) (1.5.2)\n",
            "Requirement already satisfied: schedule in /usr/local/lib/python3.10/dist-packages (from vectorbt) (1.2.2)\n",
            "Requirement already satisfied: requests in /usr/local/lib/python3.10/dist-packages (from vectorbt) (2.32.3)\n",
            "Requirement already satisfied: pytz in /usr/local/lib/python3.10/dist-packages (from vectorbt) (2024.2)\n",
            "Requirement already satisfied: mypy-extensions in /usr/local/lib/python3.10/dist-packages (from vectorbt) (1.0.0)\n",
            "Requirement already satisfied: numba<0.57.0,>=0.56.0 in /usr/local/lib/python3.10/dist-packages (from vectorbt) (0.56.4)\n",
            "Requirement already satisfied: ipykernel>=4.5.1 in /usr/local/lib/python3.10/dist-packages (from ipywidgets>=7.0.0->vectorbt) (5.5.6)\n",
            "Requirement already satisfied: ipython-genutils~=0.2.0 in /usr/local/lib/python3.10/dist-packages (from ipywidgets>=7.0.0->vectorbt) (0.2.0)\n",
            "Requirement already satisfied: traitlets>=4.3.1 in /usr/local/lib/python3.10/dist-packages (from ipywidgets>=7.0.0->vectorbt) (5.7.1)\n",
            "Requirement already satisfied: widgetsnbextension~=3.6.0 in /usr/local/lib/python3.10/dist-packages (from ipywidgets>=7.0.0->vectorbt) (3.6.10)\n",
            "Requirement already satisfied: ipython>=4.0.0 in /usr/local/lib/python3.10/dist-packages (from ipywidgets>=7.0.0->vectorbt) (7.34.0)\n",
            "Requirement already satisfied: jupyterlab-widgets>=1.0.0 in /usr/local/lib/python3.10/dist-packages (from ipywidgets>=7.0.0->vectorbt) (3.0.13)\n",
            "Requirement already satisfied: llvmlite<0.40,>=0.39.0dev0 in /usr/local/lib/python3.10/dist-packages (from numba<0.57.0,>=0.56.0->vectorbt) (0.39.1)\n",
            "Requirement already satisfied: setuptools in /usr/local/lib/python3.10/dist-packages (from numba<0.57.0,>=0.56.0->vectorbt) (75.1.0)\n",
            "Requirement already satisfied: tenacity>=6.2.0 in /usr/local/lib/python3.10/dist-packages (from plotly>=4.12.0->vectorbt) (9.0.0)\n",
            "Requirement already satisfied: packaging in /usr/local/lib/python3.10/dist-packages (from plotly>=4.12.0->vectorbt) (24.2)\n",
            "Requirement already satisfied: python-dateutil in /usr/local/lib/python3.10/dist-packages (from dateparser->vectorbt) (2.8.2)\n",
            "Requirement already satisfied: regex!=2019.02.19,!=2021.8.27 in /usr/local/lib/python3.10/dist-packages (from dateparser->vectorbt) (2024.9.11)\n",
            "Requirement already satisfied: tzlocal in /usr/local/lib/python3.10/dist-packages (from dateparser->vectorbt) (5.2)\n",
            "Requirement already satisfied: pillow>=8.3.2 in /usr/local/lib/python3.10/dist-packages (from imageio->vectorbt) (11.0.0)\n",
            "Requirement already satisfied: contourpy>=1.0.1 in /usr/local/lib/python3.10/dist-packages (from matplotlib->vectorbt) (1.3.1)\n",
            "Requirement already satisfied: cycler>=0.10 in /usr/local/lib/python3.10/dist-packages (from matplotlib->vectorbt) (0.12.1)\n",
            "Requirement already satisfied: fonttools>=4.22.0 in /usr/local/lib/python3.10/dist-packages (from matplotlib->vectorbt) (4.55.1)\n",
            "Requirement already satisfied: kiwisolver>=1.0.1 in /usr/local/lib/python3.10/dist-packages (from matplotlib->vectorbt) (1.4.7)\n",
            "Requirement already satisfied: pyparsing>=2.3.1 in /usr/local/lib/python3.10/dist-packages (from matplotlib->vectorbt) (3.2.0)\n",
            "Requirement already satisfied: tzdata>=2022.7 in /usr/local/lib/python3.10/dist-packages (from pandas->vectorbt) (2024.2)\n",
            "Requirement already satisfied: charset-normalizer<4,>=2 in /usr/local/lib/python3.10/dist-packages (from requests->vectorbt) (3.4.0)\n",
            "Requirement already satisfied: idna<4,>=2.5 in /usr/local/lib/python3.10/dist-packages (from requests->vectorbt) (3.10)\n",
            "Requirement already satisfied: urllib3<3,>=1.21.1 in /usr/local/lib/python3.10/dist-packages (from requests->vectorbt) (2.2.3)\n",
            "Requirement already satisfied: certifi>=2017.4.17 in /usr/local/lib/python3.10/dist-packages (from requests->vectorbt) (2024.8.30)\n",
            "Requirement already satisfied: joblib>=1.2.0 in /usr/local/lib/python3.10/dist-packages (from scikit-learn->vectorbt) (1.4.2)\n",
            "Requirement already satisfied: threadpoolctl>=3.1.0 in /usr/local/lib/python3.10/dist-packages (from scikit-learn->vectorbt) (3.5.0)\n",
            "Requirement already satisfied: jupyter-client in /usr/local/lib/python3.10/dist-packages (from ipykernel>=4.5.1->ipywidgets>=7.0.0->vectorbt) (6.1.12)\n",
            "Requirement already satisfied: tornado>=4.2 in /usr/local/lib/python3.10/dist-packages (from ipykernel>=4.5.1->ipywidgets>=7.0.0->vectorbt) (6.3.3)\n",
            "Requirement already satisfied: jedi>=0.16 in /usr/local/lib/python3.10/dist-packages (from ipython>=4.0.0->ipywidgets>=7.0.0->vectorbt) (0.19.2)\n",
            "Requirement already satisfied: decorator in /usr/local/lib/python3.10/dist-packages (from ipython>=4.0.0->ipywidgets>=7.0.0->vectorbt) (4.4.2)\n",
            "Requirement already satisfied: pickleshare in /usr/local/lib/python3.10/dist-packages (from ipython>=4.0.0->ipywidgets>=7.0.0->vectorbt) (0.7.5)\n",
            "Requirement already satisfied: prompt-toolkit!=3.0.0,!=3.0.1,<3.1.0,>=2.0.0 in /usr/local/lib/python3.10/dist-packages (from ipython>=4.0.0->ipywidgets>=7.0.0->vectorbt) (3.0.48)\n",
            "Requirement already satisfied: pygments in /usr/local/lib/python3.10/dist-packages (from ipython>=4.0.0->ipywidgets>=7.0.0->vectorbt) (2.18.0)\n",
            "Requirement already satisfied: backcall in /usr/local/lib/python3.10/dist-packages (from ipython>=4.0.0->ipywidgets>=7.0.0->vectorbt) (0.2.0)\n",
            "Requirement already satisfied: matplotlib-inline in /usr/local/lib/python3.10/dist-packages (from ipython>=4.0.0->ipywidgets>=7.0.0->vectorbt) (0.1.7)\n",
            "Requirement already satisfied: pexpect>4.3 in /usr/local/lib/python3.10/dist-packages (from ipython>=4.0.0->ipywidgets>=7.0.0->vectorbt) (4.9.0)\n",
            "Requirement already satisfied: six>=1.5 in /usr/local/lib/python3.10/dist-packages (from python-dateutil->dateparser->vectorbt) (1.16.0)\n",
            "Requirement already satisfied: notebook>=4.4.1 in /usr/local/lib/python3.10/dist-packages (from widgetsnbextension~=3.6.0->ipywidgets>=7.0.0->vectorbt) (6.5.5)\n",
            "Requirement already satisfied: parso<0.9.0,>=0.8.4 in /usr/local/lib/python3.10/dist-packages (from jedi>=0.16->ipython>=4.0.0->ipywidgets>=7.0.0->vectorbt) (0.8.4)\n",
            "Requirement already satisfied: jinja2 in /usr/local/lib/python3.10/dist-packages (from notebook>=4.4.1->widgetsnbextension~=3.6.0->ipywidgets>=7.0.0->vectorbt) (3.1.4)\n",
            "Requirement already satisfied: pyzmq<25,>=17 in /usr/local/lib/python3.10/dist-packages (from notebook>=4.4.1->widgetsnbextension~=3.6.0->ipywidgets>=7.0.0->vectorbt) (24.0.1)\n",
            "Requirement already satisfied: argon2-cffi in /usr/local/lib/python3.10/dist-packages (from notebook>=4.4.1->widgetsnbextension~=3.6.0->ipywidgets>=7.0.0->vectorbt) (23.1.0)\n",
            "Requirement already satisfied: jupyter-core>=4.6.1 in /usr/local/lib/python3.10/dist-packages (from notebook>=4.4.1->widgetsnbextension~=3.6.0->ipywidgets>=7.0.0->vectorbt) (5.7.2)\n",
            "Requirement already satisfied: nbformat in /usr/local/lib/python3.10/dist-packages (from notebook>=4.4.1->widgetsnbextension~=3.6.0->ipywidgets>=7.0.0->vectorbt) (5.10.4)\n",
            "Requirement already satisfied: nbconvert>=5 in /usr/local/lib/python3.10/dist-packages (from notebook>=4.4.1->widgetsnbextension~=3.6.0->ipywidgets>=7.0.0->vectorbt) (7.16.4)\n",
            "Requirement already satisfied: nest-asyncio>=1.5 in /usr/local/lib/python3.10/dist-packages (from notebook>=4.4.1->widgetsnbextension~=3.6.0->ipywidgets>=7.0.0->vectorbt) (1.6.0)\n",
            "Requirement already satisfied: Send2Trash>=1.8.0 in /usr/local/lib/python3.10/dist-packages (from notebook>=4.4.1->widgetsnbextension~=3.6.0->ipywidgets>=7.0.0->vectorbt) (1.8.3)\n",
            "Requirement already satisfied: terminado>=0.8.3 in /usr/local/lib/python3.10/dist-packages (from notebook>=4.4.1->widgetsnbextension~=3.6.0->ipywidgets>=7.0.0->vectorbt) (0.18.1)\n",
            "Requirement already satisfied: prometheus-client in /usr/local/lib/python3.10/dist-packages (from notebook>=4.4.1->widgetsnbextension~=3.6.0->ipywidgets>=7.0.0->vectorbt) (0.21.1)\n",
            "Requirement already satisfied: nbclassic>=0.4.7 in /usr/local/lib/python3.10/dist-packages (from notebook>=4.4.1->widgetsnbextension~=3.6.0->ipywidgets>=7.0.0->vectorbt) (1.1.0)\n",
            "Requirement already satisfied: ptyprocess>=0.5 in /usr/local/lib/python3.10/dist-packages (from pexpect>4.3->ipython>=4.0.0->ipywidgets>=7.0.0->vectorbt) (0.7.0)\n",
            "Requirement already satisfied: wcwidth in /usr/local/lib/python3.10/dist-packages (from prompt-toolkit!=3.0.0,!=3.0.1,<3.1.0,>=2.0.0->ipython>=4.0.0->ipywidgets>=7.0.0->vectorbt) (0.2.13)\n",
            "Requirement already satisfied: platformdirs>=2.5 in /usr/local/lib/python3.10/dist-packages (from jupyter-core>=4.6.1->notebook>=4.4.1->widgetsnbextension~=3.6.0->ipywidgets>=7.0.0->vectorbt) (4.3.6)\n",
            "Requirement already satisfied: notebook-shim>=0.2.3 in /usr/local/lib/python3.10/dist-packages (from nbclassic>=0.4.7->notebook>=4.4.1->widgetsnbextension~=3.6.0->ipywidgets>=7.0.0->vectorbt) (0.2.4)\n",
            "Requirement already satisfied: beautifulsoup4 in /usr/local/lib/python3.10/dist-packages (from nbconvert>=5->notebook>=4.4.1->widgetsnbextension~=3.6.0->ipywidgets>=7.0.0->vectorbt) (4.12.3)\n",
            "Requirement already satisfied: bleach!=5.0.0 in /usr/local/lib/python3.10/dist-packages (from nbconvert>=5->notebook>=4.4.1->widgetsnbextension~=3.6.0->ipywidgets>=7.0.0->vectorbt) (6.2.0)\n",
            "Requirement already satisfied: defusedxml in /usr/local/lib/python3.10/dist-packages (from nbconvert>=5->notebook>=4.4.1->widgetsnbextension~=3.6.0->ipywidgets>=7.0.0->vectorbt) (0.7.1)\n",
            "Requirement already satisfied: jupyterlab-pygments in /usr/local/lib/python3.10/dist-packages (from nbconvert>=5->notebook>=4.4.1->widgetsnbextension~=3.6.0->ipywidgets>=7.0.0->vectorbt) (0.3.0)\n",
            "Requirement already satisfied: markupsafe>=2.0 in /usr/local/lib/python3.10/dist-packages (from nbconvert>=5->notebook>=4.4.1->widgetsnbextension~=3.6.0->ipywidgets>=7.0.0->vectorbt) (3.0.2)\n",
            "Requirement already satisfied: mistune<4,>=2.0.3 in /usr/local/lib/python3.10/dist-packages (from nbconvert>=5->notebook>=4.4.1->widgetsnbextension~=3.6.0->ipywidgets>=7.0.0->vectorbt) (3.0.2)\n",
            "Requirement already satisfied: nbclient>=0.5.0 in /usr/local/lib/python3.10/dist-packages (from nbconvert>=5->notebook>=4.4.1->widgetsnbextension~=3.6.0->ipywidgets>=7.0.0->vectorbt) (0.10.1)\n",
            "Requirement already satisfied: pandocfilters>=1.4.1 in /usr/local/lib/python3.10/dist-packages (from nbconvert>=5->notebook>=4.4.1->widgetsnbextension~=3.6.0->ipywidgets>=7.0.0->vectorbt) (1.5.1)\n",
            "Requirement already satisfied: tinycss2 in /usr/local/lib/python3.10/dist-packages (from nbconvert>=5->notebook>=4.4.1->widgetsnbextension~=3.6.0->ipywidgets>=7.0.0->vectorbt) (1.4.0)\n",
            "Requirement already satisfied: fastjsonschema>=2.15 in /usr/local/lib/python3.10/dist-packages (from nbformat->notebook>=4.4.1->widgetsnbextension~=3.6.0->ipywidgets>=7.0.0->vectorbt) (2.21.1)\n",
            "Requirement already satisfied: jsonschema>=2.6 in /usr/local/lib/python3.10/dist-packages (from nbformat->notebook>=4.4.1->widgetsnbextension~=3.6.0->ipywidgets>=7.0.0->vectorbt) (4.23.0)\n",
            "Requirement already satisfied: argon2-cffi-bindings in /usr/local/lib/python3.10/dist-packages (from argon2-cffi->notebook>=4.4.1->widgetsnbextension~=3.6.0->ipywidgets>=7.0.0->vectorbt) (21.2.0)\n",
            "Requirement already satisfied: webencodings in /usr/local/lib/python3.10/dist-packages (from bleach!=5.0.0->nbconvert>=5->notebook>=4.4.1->widgetsnbextension~=3.6.0->ipywidgets>=7.0.0->vectorbt) (0.5.1)\n",
            "Requirement already satisfied: attrs>=22.2.0 in /usr/local/lib/python3.10/dist-packages (from jsonschema>=2.6->nbformat->notebook>=4.4.1->widgetsnbextension~=3.6.0->ipywidgets>=7.0.0->vectorbt) (24.2.0)\n",
            "Requirement already satisfied: jsonschema-specifications>=2023.03.6 in /usr/local/lib/python3.10/dist-packages (from jsonschema>=2.6->nbformat->notebook>=4.4.1->widgetsnbextension~=3.6.0->ipywidgets>=7.0.0->vectorbt) (2024.10.1)\n",
            "Requirement already satisfied: referencing>=0.28.4 in /usr/local/lib/python3.10/dist-packages (from jsonschema>=2.6->nbformat->notebook>=4.4.1->widgetsnbextension~=3.6.0->ipywidgets>=7.0.0->vectorbt) (0.35.1)\n",
            "Requirement already satisfied: rpds-py>=0.7.1 in /usr/local/lib/python3.10/dist-packages (from jsonschema>=2.6->nbformat->notebook>=4.4.1->widgetsnbextension~=3.6.0->ipywidgets>=7.0.0->vectorbt) (0.22.3)\n",
            "Requirement already satisfied: jupyter-server<3,>=1.8 in /usr/local/lib/python3.10/dist-packages (from notebook-shim>=0.2.3->nbclassic>=0.4.7->notebook>=4.4.1->widgetsnbextension~=3.6.0->ipywidgets>=7.0.0->vectorbt) (1.24.0)\n",
            "Requirement already satisfied: cffi>=1.0.1 in /usr/local/lib/python3.10/dist-packages (from argon2-cffi-bindings->argon2-cffi->notebook>=4.4.1->widgetsnbextension~=3.6.0->ipywidgets>=7.0.0->vectorbt) (1.17.1)\n",
            "Requirement already satisfied: soupsieve>1.2 in /usr/local/lib/python3.10/dist-packages (from beautifulsoup4->nbconvert>=5->notebook>=4.4.1->widgetsnbextension~=3.6.0->ipywidgets>=7.0.0->vectorbt) (2.6)\n",
            "Requirement already satisfied: pycparser in /usr/local/lib/python3.10/dist-packages (from cffi>=1.0.1->argon2-cffi-bindings->argon2-cffi->notebook>=4.4.1->widgetsnbextension~=3.6.0->ipywidgets>=7.0.0->vectorbt) (2.22)\n",
            "Requirement already satisfied: anyio<4,>=3.1.0 in /usr/local/lib/python3.10/dist-packages (from jupyter-server<3,>=1.8->notebook-shim>=0.2.3->nbclassic>=0.4.7->notebook>=4.4.1->widgetsnbextension~=3.6.0->ipywidgets>=7.0.0->vectorbt) (3.7.1)\n",
            "Requirement already satisfied: websocket-client in /usr/local/lib/python3.10/dist-packages (from jupyter-server<3,>=1.8->notebook-shim>=0.2.3->nbclassic>=0.4.7->notebook>=4.4.1->widgetsnbextension~=3.6.0->ipywidgets>=7.0.0->vectorbt) (1.8.0)\n",
            "Requirement already satisfied: sniffio>=1.1 in /usr/local/lib/python3.10/dist-packages (from anyio<4,>=3.1.0->jupyter-server<3,>=1.8->notebook-shim>=0.2.3->nbclassic>=0.4.7->notebook>=4.4.1->widgetsnbextension~=3.6.0->ipywidgets>=7.0.0->vectorbt) (1.3.1)\n",
            "Requirement already satisfied: exceptiongroup in /usr/local/lib/python3.10/dist-packages (from anyio<4,>=3.1.0->jupyter-server<3,>=1.8->notebook-shim>=0.2.3->nbclassic>=0.4.7->notebook>=4.4.1->widgetsnbextension~=3.6.0->ipywidgets>=7.0.0->vectorbt) (1.2.2)\n"
          ]
        }
      ],
      "source": [
        "!pip install vectorbt"
      ]
    },
    {
      "cell_type": "code",
      "execution_count": null,
      "metadata": {
        "colab": {
          "base_uri": "https://localhost:8080/"
        },
        "id": "wnRpSoCAwAxT",
        "outputId": "3db32812-7fcd-46bf-def0-12fdfaf4cd87"
      },
      "outputs": [
        {
          "output_type": "stream",
          "name": "stdout",
          "text": [
            "Writing app.py\n"
          ]
        }
      ],
      "source": [
        "%%writefile app.py\n",
        "import streamlit as st\n",
        "import vectorbt as vbt\n",
        "import pandas as pd\n",
        "import numpy as np\n",
        "import plotly.graph_objs as go\n",
        "from datetime import datetime\n",
        "import pytz\n",
        "\n",
        "# Function to convert date to timezone-aware datetime\n",
        "def convert_to_timezone_aware(date_obj):\n",
        "    return datetime.combine(date_obj, datetime.min.time()).replace(tzinfo=pytz.UTC)\n",
        "\n",
        "# Streamlit app configuration\n",
        "st.set_page_config(page_title=\"Backtesting Engine\", layout=\"wide\")\n",
        "st.title(\"Backtesting Engine\")\n",
        "\n",
        "# Sidebar for user inputs\n",
        "with st.sidebar:\n",
        "    st.header(\"Strategy Settings\")\n",
        "\n",
        "    # Symbol and date inputs\n",
        "    symbol = st.text_input(\"Enter the Symbol (e.g., 'AAPL')\", value=\"AAPL\")\n",
        "    start_date = st.date_input(\"Start Date\", value=pd.to_datetime(\"2015-01-01\"))\n",
        "    end_date = st.date_input(\"End Date\", value=pd.to_datetime(\"2023-01-01\"))\n",
        "\n",
        "    # EMA period inputs\n",
        "    short_ema_period = st.number_input(\"Short EMA Period\", value=10, min_value=1)\n",
        "    long_ema_period = st.number_input(\"Long EMA Period\", value=20, min_value=1)\n",
        "\n",
        "    st.header(\"Portfolio Settings\")\n",
        "    # Backtesting parameters\n",
        "    initial_cash = st.number_input(\"Initial Cash\", value=100000, step=1000)\n",
        "    position_size = st.text_input(\"Position Size\", value=\"50\")\n",
        "    size_type = st.selectbox(\"Size Type\", [\"amount\", \"value\", \"percent\"], index=2)\n",
        "    fees = st.number_input(\"Fees (in %)\", value=0.1, format=\"%.4f\")\n",
        "    trade_direction = st.selectbox(\"Trade Direction\", [\"longonly\", \"shortonly\", \"both\"], index=0)\n",
        "\n",
        "    # Trigger for backtesting\n",
        "    backtest = st.button(\"Run Backtest\")\n",
        "\n",
        "# Main content area\n",
        "if backtest:\n",
        "    # Convert dates to timezone-aware\n",
        "    start_date_tz = convert_to_timezone_aware(start_date)\n",
        "    end_date_tz = convert_to_timezone_aware(end_date)\n",
        "\n",
        "    # Fetch historical data using VectorBT\n",
        "    data = vbt.YFData.download(symbol, start=start_date_tz, end=end_date_tz).get('Close')\n",
        "\n",
        "    # Calculate EMAs and trading signals\n",
        "    short_ema = vbt.MA.run(data, short_ema_period, short_name=\"fast\", ewm=True)\n",
        "    long_ema = vbt.MA.run(data, long_ema_period, short_name=\"slow\", ewm=True)\n",
        "    entries = short_ema.ma_crossed_above(long_ema)\n",
        "    exits = short_ema.ma_crossed_below(long_ema)\n",
        "\n",
        "    # Convert position size based on size type\n",
        "    size_value = float(position_size) / 100.0 if size_type == \"percent\" else float(position_size)\n",
        "\n",
        "    # Backtesting the strategy\n",
        "    portfolio = vbt.Portfolio.from_signals(\n",
        "        data, entries, exits,\n",
        "        direction=trade_direction,\n",
        "        size=size_value,\n",
        "        size_type=size_type,\n",
        "        fees=fees / 100,\n",
        "        init_cash=initial_cash,\n",
        "        freq=\"1D\"\n",
        "    )\n",
        "\n",
        "    # Creating tabs for different outputs\n",
        "    tab1, tab2, tab3, tab4 = st.tabs([\"Performance Stats\", \"Trade Records\", \"Equity Curve\", \"Drawdown\"])\n",
        "\n",
        "    # Tab 1: Performance stats\n",
        "    with tab1:\n",
        "        st.markdown(\"### Performance Metrics\")\n",
        "        stats = portfolio.stats()\n",
        "        stats_df = pd.DataFrame(stats, columns=[\"Value\"]).reset_index().rename(columns={\"index\": \"Metric\"})\n",
        "        st.dataframe(stats_df)\n",
        "\n",
        "    # Tab 2: Trade records\n",
        "    with tab2:\n",
        "        st.markdown(\"### Trade Records\")\n",
        "        trades = portfolio.trades.records_readable\n",
        "        trades = trades.round(2)\n",
        "        st.dataframe(trades)\n",
        "\n",
        "    # Tab 3: Equity curve\n",
        "    with tab3:\n",
        "        equity_curve = portfolio.value()\n",
        "        fig = go.Figure(data=go.Scatter(x=equity_curve.index, y=equity_curve, mode=\"lines\", name=\"Equity\"))\n",
        "        fig.update_layout(title=\"Equity Curve\", xaxis_title=\"Date\", yaxis_title=\"Portfolio Value\")\n",
        "        st.plotly_chart(fig)\n",
        "\n",
        "    # Tab 4: Drawdown\n",
        "    with tab4:\n",
        "        drawdown = portfolio.drawdown() * 100\n",
        "        fig = go.Figure(data=go.Scatter(x=drawdown.index, y=drawdown, fill=\"tozeroy\", mode=\"lines\", name=\"Drawdown\"))\n",
        "        fig.update_layout(title=\"Drawdown\", xaxis_title=\"Date\", yaxis_title=\"Drawdown (%)\")\n",
        "        st.plotly_chart(fig)\n"
      ]
    },
    {
      "cell_type": "code",
      "execution_count": null,
      "metadata": {
        "colab": {
          "base_uri": "https://localhost:8080/"
        },
        "id": "eHsbA5ziwP1m",
        "outputId": "80f4260f-47cd-41a4-9cf9-adb26d65bd81"
      },
      "outputs": [
        {
          "output_type": "stream",
          "name": "stdout",
          "text": [
            "35.236.156.24\n"
          ]
        }
      ],
      "source": [
        " ! curl 4.icanhazip.com"
      ]
    },
    {
      "cell_type": "code",
      "execution_count": null,
      "metadata": {
        "colab": {
          "base_uri": "https://localhost:8080/"
        },
        "id": "mlhFkBF-wVAr",
        "outputId": "587114e0-11aa-41da-eb79-2ebad607ff5a"
      },
      "outputs": [
        {
          "output_type": "stream",
          "name": "stdout",
          "text": [
            "\u001b[1G\u001b[0K⠙\u001b[1G\u001b[0K⠹\u001b[1G\u001b[0K⠸\u001b[1G\u001b[0K⠼\u001b[1G\u001b[0K⠴\u001b[1G\u001b[0K⠦\u001b[1G\u001b[0K⠧\u001b[1G\u001b[0K⠇\u001b[1G\u001b[0K⠏\u001b[1G\u001b[0K⠋\u001b[1G\u001b[0K⠙\u001b[1G\u001b[0K⠹\u001b[1G\u001b[0K⠸\u001b[1G\u001b[0K⠼\u001b[1G\u001b[0K⠴\u001b[1G\u001b[0K⠦\u001b[1G\u001b[0K⠧\u001b[1G\u001b[0K\n",
            "changed 22 packages in 2s\n",
            "\u001b[1G\u001b[0K⠧\u001b[1G\u001b[0K\n",
            "\u001b[1G\u001b[0K⠧\u001b[1G\u001b[0K3 packages are looking for funding\n",
            "\u001b[1G\u001b[0K⠧\u001b[1G\u001b[0K  run `npm fund` for details\n",
            "\u001b[1G\u001b[0K⠧\u001b[1G\u001b[0K"
          ]
        }
      ],
      "source": [
        "!npm install -g localtunnel"
      ]
    },
    {
      "cell_type": "code",
      "execution_count": null,
      "metadata": {
        "colab": {
          "base_uri": "https://localhost:8080/"
        },
        "id": "6MKP4I7MwZGX",
        "outputId": "a07e80ec-ec12-486c-da55-2d951b7b44bb"
      },
      "outputs": [
        {
          "output_type": "stream",
          "name": "stdout",
          "text": [
            "\n",
            "Collecting usage statistics. To deactivate, set browser.gatherUsageStats to false.\n",
            "\u001b[0m\n",
            "\u001b[1G\u001b[0K⠙\u001b[1G\u001b[0K⠹\u001b[1G\u001b[0K⠸\u001b[1G\u001b[0K⠼\u001b[0m\n",
            "\u001b[34m\u001b[1m  You can now view your Streamlit app in your browser.\u001b[0m\n",
            "\u001b[0m\n",
            "\u001b[34m  Local URL: \u001b[0m\u001b[1mhttp://localhost:8501\u001b[0m\n",
            "\u001b[34m  Network URL: \u001b[0m\u001b[1mhttp://172.28.0.12:8501\u001b[0m\n",
            "\u001b[34m  External URL: \u001b[0m\u001b[1mhttp://35.236.156.24:8501\u001b[0m\n",
            "\u001b[0m\n",
            "\u001b[1G\u001b[0K⠴\u001b[1G\u001b[0K⠦\u001b[1G\u001b[0Kyour url is: https://warm-turkeys-cross.loca.lt\n",
            "2024-12-10 10:39:29.734 Serialization of dataframe to Arrow table was unsuccessful due to: (\"object of type <class 'pandas._libs.tslibs.timedeltas.Timedelta'> cannot be converted to int\", 'Conversion failed for column Value with type object'). Applying automatic fixes for column types to make the dataframe Arrow-compatible.\n",
            "2024-12-10 10:40:10.916 Serialization of dataframe to Arrow table was unsuccessful due to: (\"object of type <class 'pandas._libs.tslibs.timedeltas.Timedelta'> cannot be converted to int\", 'Conversion failed for column Value with type object'). Applying automatic fixes for column types to make the dataframe Arrow-compatible.\n",
            "2024-12-10 10:40:14.563 Uncaught app exception\n",
            "Traceback (most recent call last):\n",
            "  File \"/usr/local/lib/python3.10/dist-packages/streamlit/runtime/scriptrunner/exec_code.py\", line 88, in exec_func_with_error_handling\n",
            "    result = func()\n",
            "  File \"/usr/local/lib/python3.10/dist-packages/streamlit/runtime/scriptrunner/script_runner.py\", line 579, in code_to_exec\n",
            "    exec(code, module.__dict__)\n",
            "  File \"/content/minor-project/app.py\", line 60, in <module>\n",
            "    portfolio = vbt.Portfolio.from_signals(\n",
            "  File \"/usr/local/lib/python3.10/dist-packages/vectorbt/portfolio/base.py\", line 2960, in from_signals\n",
            "    order_records, log_records = nb.simulate_from_signal_func_nb(\n",
            "  File \"/usr/local/lib/python3.10/dist-packages/vectorbt/portfolio/nb.py\", line 1756, in signals_to_size_nb\n",
            "    raise ValueError(\"SizeType.Percent does not support position reversal using signals\")\n",
            "ValueError: SizeType.Percent does not support position reversal using signals\n",
            "2024-12-10 10:40:20.292 Serialization of dataframe to Arrow table was unsuccessful due to: (\"object of type <class 'pandas._libs.tslibs.timedeltas.Timedelta'> cannot be converted to int\", 'Conversion failed for column Value with type object'). Applying automatic fixes for column types to make the dataframe Arrow-compatible.\n",
            "2024-12-10 10:40:44.427 Serialization of dataframe to Arrow table was unsuccessful due to: (\"object of type <class 'pandas._libs.tslibs.timedeltas.Timedelta'> cannot be converted to int\", 'Conversion failed for column Value with type object'). Applying automatic fixes for column types to make the dataframe Arrow-compatible.\n",
            "2024-12-10 10:40:59.836 Serialization of dataframe to Arrow table was unsuccessful due to: (\"object of type <class 'pandas._libs.tslibs.timedeltas.Timedelta'> cannot be converted to int\", 'Conversion failed for column Value with type object'). Applying automatic fixes for column types to make the dataframe Arrow-compatible.\n",
            "2024-12-10 10:41:57.524 Serialization of dataframe to Arrow table was unsuccessful due to: (\"object of type <class 'pandas._libs.tslibs.timedeltas.Timedelta'> cannot be converted to int\", 'Conversion failed for column Value with type object'). Applying automatic fixes for column types to make the dataframe Arrow-compatible.\n",
            "2024-12-10 10:42:38.904 Serialization of dataframe to Arrow table was unsuccessful due to: (\"object of type <class 'pandas._libs.tslibs.timedeltas.Timedelta'> cannot be converted to int\", 'Conversion failed for column Value with type object'). Applying automatic fixes for column types to make the dataframe Arrow-compatible.\n"
          ]
        }
      ],
      "source": [
        "!streamlit run app.py & npx localtunnel --port 8501"
      ]
    }
  ],
  "metadata": {
    "colab": {
      "provenance": [],
      "include_colab_link": true
    },
    "kernelspec": {
      "display_name": "Python 3",
      "name": "python3"
    },
    "language_info": {
      "name": "python"
    }
  },
  "nbformat": 4,
  "nbformat_minor": 0
}